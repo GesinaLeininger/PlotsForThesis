{
 "cells": [
  {
   "cell_type": "code",
   "execution_count": 1,
   "metadata": {
    "collapsed": true
   },
   "outputs": [],
   "source": [
    "from pdfminer.pdfparser import PDFParser, PDFDocument, PDFNoOutlines\n",
    "from pdfminer.pdfinterp import PDFResourceManager, PDFPageInterpreter\n",
    "from pdfminer.converter import PDFPageAggregator\n",
    "from pdfminer.layout import LAParams, LTTextBox, LTTextLine, LTFigure, LTImage"
   ]
  },
  {
   "cell_type": "code",
   "execution_count": 22,
   "metadata": {
    "collapsed": false
   },
   "outputs": [],
   "source": [
    "def with_pdf(pdf, pdf_pwd, fn, *args):\n",
    "    result = None\n",
    "    try:\n",
    "        fp = open(pdf, 'rb')\n",
    "        parser = PDFParser(fp)\n",
    "        doc = PDFDocument()\n",
    "        parser.set_document(doc)\n",
    "        doc.set_parser(parser)\n",
    "        doc.initialize(pdf_pwd)\n",
    "        \n",
    "        if doc.is_extractable:\n",
    "            result = fn(doc, *args)\n",
    "        \n",
    "        fp.close()\n",
    "    except IOError:\n",
    "        pass\n",
    "    return result"
   ]
  },
  {
   "cell_type": "code",
   "execution_count": 23,
   "metadata": {
    "collapsed": true
   },
   "outputs": [],
   "source": [
    "def _parse_toc(doc):\n",
    "    toc = []\n",
    "    try:\n",
    "        outlines = doc.get_outlines()\n",
    "        for(level, title, dest, a, se) in outlines:\n",
    "            toc.append((level, title))\n",
    "    except PDFNoOutlines:\n",
    "        pass\n",
    "    return toc"
   ]
  },
  {
   "cell_type": "code",
   "execution_count": 26,
   "metadata": {
    "collapsed": true
   },
   "outputs": [],
   "source": [
    "def get_toc (pdf_doc, pdf_pwd=''):\n",
    "    return with_pdf(pdf_doc, pdf_pwd, _parse_toc)"
   ]
  },
  {
   "cell_type": "code",
   "execution_count": 27,
   "metadata": {
    "collapsed": false
   },
   "outputs": [
    {
     "data": {
      "text/plain": [
       "[]"
      ]
     },
     "execution_count": 27,
     "metadata": {},
     "output_type": "execute_result"
    }
   ],
   "source": [
    "get_toc('Data/KMK-Liste_Splitterberufe_2015.pdf')"
   ]
  },
  {
   "cell_type": "code",
   "execution_count": 32,
   "metadata": {
    "collapsed": true
   },
   "outputs": [],
   "source": [
    "def parse_lt_objs (lt_objs, page_number, images_folder, text=[]):\n",
    "    \"\"\"Iterate through the list of LT* objects and capture the text or image data contained in each\"\"\"\n",
    "    text_content = [] \n",
    "\n",
    "    page_text = {} # k=(x0, x1) of the bbox, v=list of text strings within that bbox width (physical column)\n",
    "    for lt_obj in lt_objs:\n",
    "        if isinstance(lt_obj, LTTextBox) or isinstance(lt_obj, LTTextLine):\n",
    "            # text, so arrange is logically based on its column width\n",
    "            page_text = update_page_text_hash(page_text, lt_obj)\n",
    "        elif isinstance(lt_obj, LTImage):\n",
    "            # an image, so save it to the designated folder, and note its place in the text \n",
    "            saved_file = save_image(lt_obj, page_number, images_folder)\n",
    "            if saved_file:\n",
    "                # use html style <img /> tag to mark the position of the image within the text\n",
    "                text_content.append('<img src=\"'+os.path.join(images_folder, saved_file)+'\" />')\n",
    "            else:\n",
    "                print >> sys.stderr, \"error saving image on page\", page_number, lt_obj.__repr__\n",
    "        elif isinstance(lt_obj, LTFigure):\n",
    "            # LTFigure objects are containers for other LT* objects, so recurse through the children\n",
    "            text_content.append(parse_lt_objs(lt_obj, page_number, images_folder, text_content))\n",
    "\n",
    "    for k, v in sorted([(key,value) for (key,value) in page_text.items()]):\n",
    "        # sort the page_text hash by the keys (x0,x1 values of the bbox),\n",
    "        # which produces a top-down, left-to-right sequence of related columns\n",
    "        text_content.append(''.join(v))\n",
    "\n",
    "    return '\\n'.join(text_content)"
   ]
  },
  {
   "cell_type": "code",
   "execution_count": 37,
   "metadata": {
    "collapsed": false
   },
   "outputs": [],
   "source": [
    "def _parse_pages(doc, images_folder):\n",
    "    rsrcmgr = PDFResourceManager()\n",
    "    laparams = LAParams()\n",
    "    device = PDFPageAggregator(rsrcmgr, laparams=laparams)\n",
    "    interpreter = PDFPageInterpreter(rsrcmgr, device)\n",
    "    \n",
    "    text_content = []\n",
    "    for i, page in enumerate(doc.get_pages()):\n",
    "        interpreter.process_page(page)\n",
    "        layout = device.get_result()\n",
    "        for lt_obj in layout:\n",
    "            if isinstance(lt_obj, LTImage):\n",
    "                saved_file = save_image(lt_obj, page_number, images_folder)\n",
    "                if saved_file:\n",
    "                    text_content.append('<img src=\"' + os.path.join(images_folder, saved_file)+'\" />')                    \n",
    "    \n",
    "    return text_content"
   ]
  },
  {
   "cell_type": "code",
   "execution_count": 38,
   "metadata": {
    "collapsed": true
   },
   "outputs": [],
   "source": [
    "def get_pages(pdf_doc, pdf_pwd='', images_folder='/tmp'):\n",
    "    print('\\n\\n'.join(with_pdf(pdf_doc, pdf_pwd, _parse_pages, *tuple([images_folder]))))"
   ]
  },
  {
   "cell_type": "code",
   "execution_count": 39,
   "metadata": {
    "collapsed": false
   },
   "outputs": [
    {
     "name": "stdout",
     "output_type": "stream",
     "text": [
      "\n"
     ]
    }
   ],
   "source": [
    "get_pages('Data/KMK-Liste_Splitterberufe_2015.pdf')"
   ]
  },
  {
   "cell_type": "code",
   "execution_count": 42,
   "metadata": {
    "collapsed": false
   },
   "outputs": [],
   "source": [
    "pathToPdf = 'Data/KMK-Liste_Splitterberufe_2015.pdf'\n",
    "text_out = with_pdf(pathToPdf, '', _parse_pages, *tuple(['Data']))"
   ]
  },
  {
   "cell_type": "code",
   "execution_count": 43,
   "metadata": {
    "collapsed": false
   },
   "outputs": [
    {
     "data": {
      "text/plain": [
       "[]"
      ]
     },
     "execution_count": 43,
     "metadata": {},
     "output_type": "execute_result"
    }
   ],
   "source": [
    "text_out"
   ]
  },
  {
   "cell_type": "code",
   "execution_count": 44,
   "metadata": {
    "collapsed": true
   },
   "outputs": [],
   "source": [
    "pathToPdf = 'Data/RVSplit00-84-01-26ALT328.pdf'\n",
    "text_out = with_pdf(pathToPdf, '', _parse_pages, *tuple(['Data']))"
   ]
  },
  {
   "cell_type": "code",
   "execution_count": 45,
   "metadata": {
    "collapsed": false
   },
   "outputs": [
    {
     "data": {
      "text/plain": [
       "[]"
      ]
     },
     "execution_count": 45,
     "metadata": {},
     "output_type": "execute_result"
    }
   ],
   "source": [
    "text_out"
   ]
  },
  {
   "cell_type": "code",
   "execution_count": null,
   "metadata": {
    "collapsed": true
   },
   "outputs": [],
   "source": []
  }
 ],
 "metadata": {
  "kernelspec": {
   "display_name": "Python 3",
   "language": "python",
   "name": "python3"
  },
  "language_info": {
   "codemirror_mode": {
    "name": "ipython",
    "version": 3
   },
   "file_extension": ".py",
   "mimetype": "text/x-python",
   "name": "python",
   "nbconvert_exporter": "python",
   "pygments_lexer": "ipython3",
   "version": "3.5.1"
  }
 },
 "nbformat": 4,
 "nbformat_minor": 0
}
