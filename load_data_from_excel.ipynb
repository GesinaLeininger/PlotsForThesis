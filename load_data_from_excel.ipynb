{
 "cells": [
  {
   "cell_type": "code",
   "execution_count": 1,
   "metadata": {
    "collapsed": true
   },
   "outputs": [],
   "source": [
    "import numpy as np\n",
    "import pandas as pd\n",
    "import xlrd"
   ]
  },
  {
   "cell_type": "code",
   "execution_count": 2,
   "metadata": {
    "collapsed": false
   },
   "outputs": [
    {
     "name": "stdout",
     "output_type": "stream",
     "text": [
      "*** formula/tFuncVar unknown FuncID:255\n"
     ]
    }
   ],
   "source": [
    "gesinasTable = pd.read_excel(\"data/fachklassenliste_KMK.xls\")"
   ]
  },
  {
   "cell_type": "code",
   "execution_count": 3,
   "metadata": {
    "collapsed": false
   },
   "outputs": [
    {
     "name": "stdout",
     "output_type": "stream",
     "text": [
      "*** formula/tFuncVar unknown FuncID:255\n",
      "sheets are:  ['Tabelle1']\n"
     ]
    }
   ],
   "source": [
    "book = xlrd.open_workbook(\"data/fachklassenliste_KMK.xls\", formatting_info=True)\n",
    "sheets = book.sheet_names()\n",
    "print (\"sheets are: \", sheets)"
   ]
  },
  {
   "cell_type": "code",
   "execution_count": 4,
   "metadata": {
    "collapsed": false
   },
   "outputs": [
    {
     "name": "stdout",
     "output_type": "stream",
     "text": [
      "485 24\n"
     ]
    }
   ],
   "source": [
    "sheet = book.sheet_by_index(0)\n",
    "rows, cols = sheet.nrows, sheet.ncols\n",
    "print(rows, cols)"
   ]
  },
  {
   "cell_type": "code",
   "execution_count": 5,
   "metadata": {
    "collapsed": false
   },
   "outputs": [],
   "source": [
    "colorInfoArray = np.zeros(shape=(gesinasTable.shape[0]+1,gesinasTable.shape[1]))\n",
    "for row in range(gesinasTable.shape[0]):\n",
    "    for col in range(gesinasTable.shape[1]):\n",
    "        #print(\"row, cell is: \", row+1, col+1)\n",
    "        thecell = sheet.cell(row, col)\n",
    "        #print(thecell)\n",
    "        xfx = sheet.cell_xf_index(row,col)\n",
    "        xf = book.xf_list[xfx]\n",
    "        bgx = xf.background.pattern_colour_index\n",
    "        colorInfoArray[row,col] = xf.background.pattern_colour_index\n",
    "        #print (bgx)"
   ]
  },
  {
   "cell_type": "code",
   "execution_count": 6,
   "metadata": {
    "collapsed": false
   },
   "outputs": [
    {
     "data": {
      "text/plain": [
       "(456, 18)"
      ]
     },
     "execution_count": 6,
     "metadata": {},
     "output_type": "execute_result"
    }
   ],
   "source": [
    "gesinasTable.shape"
   ]
  },
  {
   "cell_type": "code",
   "execution_count": 7,
   "metadata": {
    "collapsed": false
   },
   "outputs": [
    {
     "data": {
      "text/plain": [
       "(457, 18)"
      ]
     },
     "execution_count": 7,
     "metadata": {},
     "output_type": "execute_result"
    }
   ],
   "source": [
    "colorInfoArray.shape"
   ]
  },
  {
   "cell_type": "code",
   "execution_count": 8,
   "metadata": {
    "collapsed": false
   },
   "outputs": [],
   "source": [
    "for row in range(gesinasTable.shape[0]):\n",
    "    for col in range(1,gesinasTable.shape[1]):\n",
    "        if (colorInfoArray[row+1,col] == 17.0):\n",
    "            gesinasTable[gesinasTable.columns[col]][row] = 1"
   ]
  },
  {
   "cell_type": "code",
   "execution_count": 9,
   "metadata": {
    "collapsed": false
   },
   "outputs": [
    {
     "data": {
      "text/html": [
       "<div>\n",
       "<table border=\"1\" class=\"dataframe\">\n",
       "  <thead>\n",
       "    <tr style=\"text-align: right;\">\n",
       "      <th></th>\n",
       "      <th>Ausbildungsberuf</th>\n",
       "      <th>NRW</th>\n",
       "      <th>RLP</th>\n",
       "      <th>Hessen</th>\n",
       "      <th>Sachsen</th>\n",
       "      <th>Sachsen Anhalt</th>\n",
       "      <th>Niedersachsen</th>\n",
       "      <th>Bremen</th>\n",
       "      <th>Berlin</th>\n",
       "      <th>Baden Württemberg</th>\n",
       "      <th>MVP</th>\n",
       "      <th>SH</th>\n",
       "      <th>Saarland</th>\n",
       "      <th>Thüringen</th>\n",
       "      <th>Bayern</th>\n",
       "      <th>Hamburg</th>\n",
       "      <th>Brandenburg</th>\n",
       "      <th>info</th>\n",
       "    </tr>\n",
       "  </thead>\n",
       "  <tbody>\n",
       "    <tr>\n",
       "      <th>0</th>\n",
       "      <td>Aspahaltbauer</td>\n",
       "      <td>Essen</td>\n",
       "      <td>1</td>\n",
       "      <td>1</td>\n",
       "      <td>1</td>\n",
       "      <td>1</td>\n",
       "      <td>1</td>\n",
       "      <td>1</td>\n",
       "      <td>1</td>\n",
       "      <td>1</td>\n",
       "      <td>1</td>\n",
       "      <td>1</td>\n",
       "      <td>1</td>\n",
       "      <td>1</td>\n",
       "      <td>1</td>\n",
       "      <td>1</td>\n",
       "      <td>1</td>\n",
       "      <td>NaN</td>\n",
       "    </tr>\n",
       "    <tr>\n",
       "      <th>1</th>\n",
       "      <td>Aufbereitungsmechaniker</td>\n",
       "      <td>NaN</td>\n",
       "      <td>NaN</td>\n",
       "      <td>NaN</td>\n",
       "      <td>1</td>\n",
       "      <td>1</td>\n",
       "      <td>NaN</td>\n",
       "      <td>NaN</td>\n",
       "      <td>NaN</td>\n",
       "      <td>1</td>\n",
       "      <td>NaN</td>\n",
       "      <td>NaN</td>\n",
       "      <td>1</td>\n",
       "      <td>1</td>\n",
       "      <td>Wiesau</td>\n",
       "      <td>NaN</td>\n",
       "      <td>NaN</td>\n",
       "      <td>NaN</td>\n",
       "    </tr>\n",
       "    <tr>\n",
       "      <th>2</th>\n",
       "      <td>&lt; Feuerfeste und keramihsce Rohstoffe</td>\n",
       "      <td>Duisburg</td>\n",
       "      <td>NaN</td>\n",
       "      <td>1</td>\n",
       "      <td>NaN</td>\n",
       "      <td>NaN</td>\n",
       "      <td>1</td>\n",
       "      <td>1</td>\n",
       "      <td>NaN</td>\n",
       "      <td>NaN</td>\n",
       "      <td>1</td>\n",
       "      <td>1</td>\n",
       "      <td>NaN</td>\n",
       "      <td>NaN</td>\n",
       "      <td>NaN</td>\n",
       "      <td>1</td>\n",
       "      <td>1</td>\n",
       "      <td>NaN</td>\n",
       "    </tr>\n",
       "    <tr>\n",
       "      <th>3</th>\n",
       "      <td>&lt; Naturstein / &lt; Sand und Kies</td>\n",
       "      <td>Duisburg</td>\n",
       "      <td>1</td>\n",
       "      <td>1</td>\n",
       "      <td>NaN</td>\n",
       "      <td>NaN</td>\n",
       "      <td>1</td>\n",
       "      <td>1</td>\n",
       "      <td>NaN</td>\n",
       "      <td>NaN</td>\n",
       "      <td>1</td>\n",
       "      <td>1</td>\n",
       "      <td>NaN</td>\n",
       "      <td>NaN</td>\n",
       "      <td>NaN</td>\n",
       "      <td>1</td>\n",
       "      <td>NaN</td>\n",
       "      <td>NaN</td>\n",
       "    </tr>\n",
       "    <tr>\n",
       "      <th>4</th>\n",
       "      <td>&lt; Naturstein / &lt; Sand und Kies</td>\n",
       "      <td>NaN</td>\n",
       "      <td>NaN</td>\n",
       "      <td>NaN</td>\n",
       "      <td>1</td>\n",
       "      <td>1</td>\n",
       "      <td>NaN</td>\n",
       "      <td>NaN</td>\n",
       "      <td>NaN</td>\n",
       "      <td>NaN</td>\n",
       "      <td>NaN</td>\n",
       "      <td>NaN</td>\n",
       "      <td>1</td>\n",
       "      <td>erfurt</td>\n",
       "      <td>NaN</td>\n",
       "      <td>NaN</td>\n",
       "      <td>1</td>\n",
       "      <td>* Auszubildende aus dem Land Berlin besuchen B...</td>\n",
       "    </tr>\n",
       "  </tbody>\n",
       "</table>\n",
       "</div>"
      ],
      "text/plain": [
       "                        Ausbildungsberuf       NRW  RLP Hessen Sachsen  \\\n",
       "0                          Aspahaltbauer     Essen    1      1       1   \n",
       "1                Aufbereitungsmechaniker       NaN  NaN    NaN       1   \n",
       "2  < Feuerfeste und keramihsce Rohstoffe  Duisburg  NaN      1     NaN   \n",
       "3         < Naturstein / < Sand und Kies  Duisburg    1      1     NaN   \n",
       "4         < Naturstein / < Sand und Kies       NaN  NaN    NaN       1   \n",
       "\n",
       "  Sachsen Anhalt Niedersachsen Bremen Berlin  Baden Württemberg  MVP   SH  \\\n",
       "0              1             1      1       1                 1    1    1   \n",
       "1              1           NaN    NaN     NaN                 1  NaN  NaN   \n",
       "2            NaN             1      1     NaN               NaN    1    1   \n",
       "3            NaN             1      1     NaN               NaN    1    1   \n",
       "4              1           NaN    NaN     NaN               NaN  NaN  NaN   \n",
       "\n",
       "  Saarland Thüringen  Bayern Hamburg Brandenburg  \\\n",
       "0        1         1       1       1           1   \n",
       "1        1         1  Wiesau     NaN         NaN   \n",
       "2      NaN       NaN     NaN       1           1   \n",
       "3      NaN       NaN     NaN       1         NaN   \n",
       "4        1    erfurt     NaN     NaN           1   \n",
       "\n",
       "                                                info  \n",
       "0                                                NaN  \n",
       "1                                                NaN  \n",
       "2                                                NaN  \n",
       "3                                                NaN  \n",
       "4  * Auszubildende aus dem Land Berlin besuchen B...  "
      ]
     },
     "execution_count": 9,
     "metadata": {},
     "output_type": "execute_result"
    }
   ],
   "source": [
    "gesinasTable.head(5)"
   ]
  },
  {
   "cell_type": "code",
   "execution_count": 10,
   "metadata": {
    "collapsed": false
   },
   "outputs": [],
   "source": [
    "gesinasTable = gesinasTable.fillna('leer')"
   ]
  },
  {
   "cell_type": "code",
   "execution_count": 11,
   "metadata": {
    "collapsed": false
   },
   "outputs": [
    {
     "data": {
      "text/html": [
       "<div>\n",
       "<table border=\"1\" class=\"dataframe\">\n",
       "  <thead>\n",
       "    <tr style=\"text-align: right;\">\n",
       "      <th></th>\n",
       "      <th>Ausbildungsberuf</th>\n",
       "      <th>NRW</th>\n",
       "      <th>RLP</th>\n",
       "      <th>Hessen</th>\n",
       "      <th>Sachsen</th>\n",
       "      <th>Sachsen Anhalt</th>\n",
       "      <th>Niedersachsen</th>\n",
       "      <th>Bremen</th>\n",
       "      <th>Berlin</th>\n",
       "      <th>Baden Württemberg</th>\n",
       "      <th>MVP</th>\n",
       "      <th>SH</th>\n",
       "      <th>Saarland</th>\n",
       "      <th>Thüringen</th>\n",
       "      <th>Bayern</th>\n",
       "      <th>Hamburg</th>\n",
       "      <th>Brandenburg</th>\n",
       "      <th>info</th>\n",
       "    </tr>\n",
       "  </thead>\n",
       "  <tbody>\n",
       "    <tr>\n",
       "      <th>0</th>\n",
       "      <td>Aspahaltbauer</td>\n",
       "      <td>Essen</td>\n",
       "      <td>1</td>\n",
       "      <td>1</td>\n",
       "      <td>1</td>\n",
       "      <td>1</td>\n",
       "      <td>1</td>\n",
       "      <td>1</td>\n",
       "      <td>1</td>\n",
       "      <td>1</td>\n",
       "      <td>1</td>\n",
       "      <td>1</td>\n",
       "      <td>1</td>\n",
       "      <td>1</td>\n",
       "      <td>1</td>\n",
       "      <td>1</td>\n",
       "      <td>1</td>\n",
       "      <td>leer</td>\n",
       "    </tr>\n",
       "    <tr>\n",
       "      <th>1</th>\n",
       "      <td>Aufbereitungsmechaniker</td>\n",
       "      <td>leer</td>\n",
       "      <td>leer</td>\n",
       "      <td>leer</td>\n",
       "      <td>1</td>\n",
       "      <td>1</td>\n",
       "      <td>leer</td>\n",
       "      <td>leer</td>\n",
       "      <td>leer</td>\n",
       "      <td>1</td>\n",
       "      <td>leer</td>\n",
       "      <td>leer</td>\n",
       "      <td>1</td>\n",
       "      <td>1</td>\n",
       "      <td>Wiesau</td>\n",
       "      <td>leer</td>\n",
       "      <td>leer</td>\n",
       "      <td>leer</td>\n",
       "    </tr>\n",
       "    <tr>\n",
       "      <th>2</th>\n",
       "      <td>&lt; Feuerfeste und keramihsce Rohstoffe</td>\n",
       "      <td>Duisburg</td>\n",
       "      <td>leer</td>\n",
       "      <td>1</td>\n",
       "      <td>leer</td>\n",
       "      <td>leer</td>\n",
       "      <td>1</td>\n",
       "      <td>1</td>\n",
       "      <td>leer</td>\n",
       "      <td>leer</td>\n",
       "      <td>1</td>\n",
       "      <td>1</td>\n",
       "      <td>leer</td>\n",
       "      <td>leer</td>\n",
       "      <td>leer</td>\n",
       "      <td>1</td>\n",
       "      <td>1</td>\n",
       "      <td>leer</td>\n",
       "    </tr>\n",
       "    <tr>\n",
       "      <th>3</th>\n",
       "      <td>&lt; Naturstein / &lt; Sand und Kies</td>\n",
       "      <td>Duisburg</td>\n",
       "      <td>1</td>\n",
       "      <td>1</td>\n",
       "      <td>leer</td>\n",
       "      <td>leer</td>\n",
       "      <td>1</td>\n",
       "      <td>1</td>\n",
       "      <td>leer</td>\n",
       "      <td>leer</td>\n",
       "      <td>1</td>\n",
       "      <td>1</td>\n",
       "      <td>leer</td>\n",
       "      <td>leer</td>\n",
       "      <td>leer</td>\n",
       "      <td>1</td>\n",
       "      <td>leer</td>\n",
       "      <td>leer</td>\n",
       "    </tr>\n",
       "    <tr>\n",
       "      <th>4</th>\n",
       "      <td>&lt; Naturstein / &lt; Sand und Kies</td>\n",
       "      <td>leer</td>\n",
       "      <td>leer</td>\n",
       "      <td>leer</td>\n",
       "      <td>1</td>\n",
       "      <td>1</td>\n",
       "      <td>leer</td>\n",
       "      <td>leer</td>\n",
       "      <td>leer</td>\n",
       "      <td>leer</td>\n",
       "      <td>leer</td>\n",
       "      <td>leer</td>\n",
       "      <td>1</td>\n",
       "      <td>erfurt</td>\n",
       "      <td>leer</td>\n",
       "      <td>leer</td>\n",
       "      <td>1</td>\n",
       "      <td>* Auszubildende aus dem Land Berlin besuchen B...</td>\n",
       "    </tr>\n",
       "  </tbody>\n",
       "</table>\n",
       "</div>"
      ],
      "text/plain": [
       "                        Ausbildungsberuf       NRW   RLP Hessen Sachsen  \\\n",
       "0                          Aspahaltbauer     Essen     1      1       1   \n",
       "1                Aufbereitungsmechaniker      leer  leer   leer       1   \n",
       "2  < Feuerfeste und keramihsce Rohstoffe  Duisburg  leer      1    leer   \n",
       "3         < Naturstein / < Sand und Kies  Duisburg     1      1    leer   \n",
       "4         < Naturstein / < Sand und Kies      leer  leer   leer       1   \n",
       "\n",
       "  Sachsen Anhalt Niedersachsen Bremen Berlin  Baden Württemberg   MVP    SH  \\\n",
       "0              1             1      1       1                 1     1     1   \n",
       "1              1          leer   leer    leer                 1  leer  leer   \n",
       "2           leer             1      1    leer              leer     1     1   \n",
       "3           leer             1      1    leer              leer     1     1   \n",
       "4              1          leer   leer    leer              leer  leer  leer   \n",
       "\n",
       "  Saarland Thüringen  Bayern Hamburg Brandenburg  \\\n",
       "0        1         1       1       1           1   \n",
       "1        1         1  Wiesau    leer        leer   \n",
       "2     leer      leer    leer       1           1   \n",
       "3     leer      leer    leer       1        leer   \n",
       "4        1    erfurt    leer    leer           1   \n",
       "\n",
       "                                                info  \n",
       "0                                               leer  \n",
       "1                                               leer  \n",
       "2                                               leer  \n",
       "3                                               leer  \n",
       "4  * Auszubildende aus dem Land Berlin besuchen B...  "
      ]
     },
     "execution_count": 11,
     "metadata": {},
     "output_type": "execute_result"
    }
   ],
   "source": [
    "gesinasTable.head()"
   ]
  },
  {
   "cell_type": "code",
   "execution_count": 12,
   "metadata": {
    "collapsed": false
   },
   "outputs": [
    {
     "data": {
      "text/html": [
       "<div>\n",
       "<table border=\"1\" class=\"dataframe\">\n",
       "  <thead>\n",
       "    <tr style=\"text-align: right;\">\n",
       "      <th></th>\n",
       "      <th>Brandenburg</th>\n",
       "      <th>info</th>\n",
       "    </tr>\n",
       "  </thead>\n",
       "  <tbody>\n",
       "    <tr>\n",
       "      <th>4</th>\n",
       "      <td>1</td>\n",
       "      <td>* Auszubildende aus dem Land Berlin besuchen B...</td>\n",
       "    </tr>\n",
       "    <tr>\n",
       "      <th>15</th>\n",
       "      <td>1</td>\n",
       "      <td>Auszubildende aus dem Umkreis Berlin besuchen ...</td>\n",
       "    </tr>\n",
       "    <tr>\n",
       "      <th>31</th>\n",
       "      <td>1</td>\n",
       "      <td>Auszubildende aus dem Umkreis Berlin besuchen ...</td>\n",
       "    </tr>\n",
       "    <tr>\n",
       "      <th>34</th>\n",
       "      <td>1</td>\n",
       "      <td>Auszubildende aus dem Umkreis Berlin besuchen ...</td>\n",
       "    </tr>\n",
       "    <tr>\n",
       "      <th>40</th>\n",
       "      <td>1</td>\n",
       "      <td>Auszubildende aus dem Umkreis Berlin besuchen ...</td>\n",
       "    </tr>\n",
       "  </tbody>\n",
       "</table>\n",
       "</div>"
      ],
      "text/plain": [
       "   Brandenburg                                               info\n",
       "4            1  * Auszubildende aus dem Land Berlin besuchen B...\n",
       "15           1  Auszubildende aus dem Umkreis Berlin besuchen ...\n",
       "31           1  Auszubildende aus dem Umkreis Berlin besuchen ...\n",
       "34           1  Auszubildende aus dem Umkreis Berlin besuchen ...\n",
       "40           1  Auszubildende aus dem Umkreis Berlin besuchen ..."
      ]
     },
     "execution_count": 12,
     "metadata": {},
     "output_type": "execute_result"
    }
   ],
   "source": [
    "gesinasTable[['Brandenburg','info']][((gesinasTable['Brandenburg']==1) & (gesinasTable['info']!='leer'))][:5]"
   ]
  },
  {
   "cell_type": "code",
   "execution_count": null,
   "metadata": {
    "collapsed": true
   },
   "outputs": [],
   "source": []
  }
 ],
 "metadata": {
  "kernelspec": {
   "display_name": "Python 3",
   "language": "python",
   "name": "python3"
  },
  "language_info": {
   "codemirror_mode": {
    "name": "ipython",
    "version": 3
   },
   "file_extension": ".py",
   "mimetype": "text/x-python",
   "name": "python",
   "nbconvert_exporter": "python",
   "pygments_lexer": "ipython3",
   "version": "3.5.1"
  }
 },
 "nbformat": 4,
 "nbformat_minor": 0
}
