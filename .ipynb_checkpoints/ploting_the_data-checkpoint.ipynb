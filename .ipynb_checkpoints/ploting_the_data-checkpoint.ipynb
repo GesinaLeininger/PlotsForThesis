{
 "cells": [
  {
   "cell_type": "markdown",
   "metadata": {},
   "source": [
    "# Plot the data collected for the thesis\n",
    "\n",
    "First load some libraries for the analysis and setting the plotting style"
   ]
  },
  {
   "cell_type": "code",
   "execution_count": 33,
   "metadata": {
    "collapsed": true
   },
   "outputs": [],
   "source": [
    "%reload_ext autoreload\n",
    "%autoreload 2\n",
    "\n",
    "import numpy as np\n",
    "import pandas as pd\n",
    "import xlrd\n",
    "\n",
    "import sys\n",
    "sys.path.insert(0, './Code')\n",
    "from book_plots import *\n",
    "\n",
    "%matplotlib inline\n",
    "import matplotlib.pyplot as plt\n",
    "plt.style.use('bmh')"
   ]
  },
  {
   "cell_type": "markdown",
   "metadata": {},
   "source": [
    "## Read the data from the excel file"
   ]
  },
  {
   "cell_type": "code",
   "execution_count": 34,
   "metadata": {
    "collapsed": false
   },
   "outputs": [
    {
     "name": "stdout",
     "output_type": "stream",
     "text": [
      "*** formula/tFuncVar unknown FuncID:255\n"
     ]
    }
   ],
   "source": [
    "gesinasTable = pd.read_excel(\"data/fachklassenliste_KMK.xls\")"
   ]
  },
  {
   "cell_type": "code",
   "execution_count": 35,
   "metadata": {
    "collapsed": false
   },
   "outputs": [
    {
     "name": "stdout",
     "output_type": "stream",
     "text": [
      "*** formula/tFuncVar unknown FuncID:255\n",
      "sheets are:  ['Tabelle1']\n"
     ]
    }
   ],
   "source": [
    "book = xlrd.open_workbook(\"data/fachklassenliste_KMK.xls\", formatting_info=True)\n",
    "sheets = book.sheet_names()\n",
    "print (\"sheets are: \", sheets)"
   ]
  },
  {
   "cell_type": "code",
   "execution_count": 36,
   "metadata": {
    "collapsed": false
   },
   "outputs": [
    {
     "name": "stdout",
     "output_type": "stream",
     "text": [
      "485 24\n"
     ]
    }
   ],
   "source": [
    "sheet = book.sheet_by_index(0)\n",
    "rows, cols = sheet.nrows, sheet.ncols\n",
    "print(rows, cols)"
   ]
  },
  {
   "cell_type": "markdown",
   "metadata": {},
   "source": [
    "## Some information is given by color of the excel cell\n",
    "\n",
    "Set the value 1 for cells that have the color green"
   ]
  },
  {
   "cell_type": "code",
   "execution_count": 37,
   "metadata": {
    "collapsed": false
   },
   "outputs": [],
   "source": [
    "colorInfoArray = np.zeros(shape=(gesinasTable.shape[0]+1,gesinasTable.shape[1]))\n",
    "for row in range(gesinasTable.shape[0]):\n",
    "    for col in range(gesinasTable.shape[1]):\n",
    "        #print(\"row, cell is: \", row+1, col+1)\n",
    "        thecell = sheet.cell(row, col)\n",
    "        #print(thecell)\n",
    "        xfx = sheet.cell_xf_index(row,col)\n",
    "        xf = book.xf_list[xfx]\n",
    "        bgx = xf.background.pattern_colour_index\n",
    "        colorInfoArray[row,col] = xf.background.pattern_colour_index\n",
    "        #print (bgx)"
   ]
  },
  {
   "cell_type": "code",
   "execution_count": 38,
   "metadata": {
    "collapsed": false
   },
   "outputs": [
    {
     "data": {
      "text/plain": [
       "(456, 18)"
      ]
     },
     "execution_count": 38,
     "metadata": {},
     "output_type": "execute_result"
    }
   ],
   "source": [
    "gesinasTable.shape"
   ]
  },
  {
   "cell_type": "code",
   "execution_count": 39,
   "metadata": {
    "collapsed": false
   },
   "outputs": [
    {
     "data": {
      "text/plain": [
       "(457, 18)"
      ]
     },
     "execution_count": 39,
     "metadata": {},
     "output_type": "execute_result"
    }
   ],
   "source": [
    "colorInfoArray.shape"
   ]
  },
  {
   "cell_type": "code",
   "execution_count": 40,
   "metadata": {
    "collapsed": false
   },
   "outputs": [],
   "source": [
    "for row in range(gesinasTable.shape[0]):\n",
    "    for col in range(1,gesinasTable.shape[1]):\n",
    "        if (colorInfoArray[row+1,col] == 17.0):\n",
    "            gesinasTable[gesinasTable.columns[col]][row] = 1"
   ]
  },
  {
   "cell_type": "markdown",
   "metadata": {},
   "source": [
    "Look at the first 5 rows of the data"
   ]
  },
  {
   "cell_type": "code",
   "execution_count": 41,
   "metadata": {
    "collapsed": false
   },
   "outputs": [
    {
     "data": {
      "text/html": [
       "<div>\n",
       "<table border=\"1\" class=\"dataframe\">\n",
       "  <thead>\n",
       "    <tr style=\"text-align: right;\">\n",
       "      <th></th>\n",
       "      <th>Ausbildungsberuf</th>\n",
       "      <th>NRW</th>\n",
       "      <th>RLP</th>\n",
       "      <th>Hessen</th>\n",
       "      <th>Sachsen</th>\n",
       "      <th>Sachsen Anhalt</th>\n",
       "      <th>Niedersachsen</th>\n",
       "      <th>Bremen</th>\n",
       "      <th>Berlin</th>\n",
       "      <th>Baden Württemberg</th>\n",
       "      <th>MVP</th>\n",
       "      <th>SH</th>\n",
       "      <th>Saarland</th>\n",
       "      <th>Thüringen</th>\n",
       "      <th>Bayern</th>\n",
       "      <th>Hamburg</th>\n",
       "      <th>Brandenburg</th>\n",
       "      <th>info</th>\n",
       "    </tr>\n",
       "  </thead>\n",
       "  <tbody>\n",
       "    <tr>\n",
       "      <th>0</th>\n",
       "      <td>Aspahaltbauer</td>\n",
       "      <td>Essen</td>\n",
       "      <td>1</td>\n",
       "      <td>1</td>\n",
       "      <td>1</td>\n",
       "      <td>1</td>\n",
       "      <td>1</td>\n",
       "      <td>1</td>\n",
       "      <td>1</td>\n",
       "      <td>1</td>\n",
       "      <td>1</td>\n",
       "      <td>1</td>\n",
       "      <td>1</td>\n",
       "      <td>1</td>\n",
       "      <td>1</td>\n",
       "      <td>1</td>\n",
       "      <td>1</td>\n",
       "      <td>NaN</td>\n",
       "    </tr>\n",
       "    <tr>\n",
       "      <th>1</th>\n",
       "      <td>Aufbereitungsmechaniker</td>\n",
       "      <td>NaN</td>\n",
       "      <td>NaN</td>\n",
       "      <td>NaN</td>\n",
       "      <td>1</td>\n",
       "      <td>1</td>\n",
       "      <td>NaN</td>\n",
       "      <td>NaN</td>\n",
       "      <td>NaN</td>\n",
       "      <td>1</td>\n",
       "      <td>NaN</td>\n",
       "      <td>NaN</td>\n",
       "      <td>1</td>\n",
       "      <td>1</td>\n",
       "      <td>Wiesau</td>\n",
       "      <td>NaN</td>\n",
       "      <td>NaN</td>\n",
       "      <td>NaN</td>\n",
       "    </tr>\n",
       "    <tr>\n",
       "      <th>2</th>\n",
       "      <td>&lt; Feuerfeste und keramihsce Rohstoffe</td>\n",
       "      <td>Duisburg</td>\n",
       "      <td>NaN</td>\n",
       "      <td>1</td>\n",
       "      <td>NaN</td>\n",
       "      <td>NaN</td>\n",
       "      <td>1</td>\n",
       "      <td>1</td>\n",
       "      <td>NaN</td>\n",
       "      <td>NaN</td>\n",
       "      <td>1</td>\n",
       "      <td>1</td>\n",
       "      <td>NaN</td>\n",
       "      <td>NaN</td>\n",
       "      <td>NaN</td>\n",
       "      <td>1</td>\n",
       "      <td>1</td>\n",
       "      <td>NaN</td>\n",
       "    </tr>\n",
       "    <tr>\n",
       "      <th>3</th>\n",
       "      <td>&lt; Naturstein / &lt; Sand und Kies</td>\n",
       "      <td>Duisburg</td>\n",
       "      <td>1</td>\n",
       "      <td>1</td>\n",
       "      <td>NaN</td>\n",
       "      <td>NaN</td>\n",
       "      <td>1</td>\n",
       "      <td>1</td>\n",
       "      <td>NaN</td>\n",
       "      <td>NaN</td>\n",
       "      <td>1</td>\n",
       "      <td>1</td>\n",
       "      <td>NaN</td>\n",
       "      <td>NaN</td>\n",
       "      <td>NaN</td>\n",
       "      <td>1</td>\n",
       "      <td>NaN</td>\n",
       "      <td>NaN</td>\n",
       "    </tr>\n",
       "    <tr>\n",
       "      <th>4</th>\n",
       "      <td>&lt; Naturstein / &lt; Sand und Kies</td>\n",
       "      <td>NaN</td>\n",
       "      <td>NaN</td>\n",
       "      <td>NaN</td>\n",
       "      <td>1</td>\n",
       "      <td>1</td>\n",
       "      <td>NaN</td>\n",
       "      <td>NaN</td>\n",
       "      <td>NaN</td>\n",
       "      <td>NaN</td>\n",
       "      <td>NaN</td>\n",
       "      <td>NaN</td>\n",
       "      <td>1</td>\n",
       "      <td>erfurt</td>\n",
       "      <td>NaN</td>\n",
       "      <td>NaN</td>\n",
       "      <td>1</td>\n",
       "      <td>* Auszubildende aus dem Land Berlin besuchen B...</td>\n",
       "    </tr>\n",
       "  </tbody>\n",
       "</table>\n",
       "</div>"
      ],
      "text/plain": [
       "                        Ausbildungsberuf       NRW  RLP Hessen Sachsen  \\\n",
       "0                          Aspahaltbauer     Essen    1      1       1   \n",
       "1                Aufbereitungsmechaniker       NaN  NaN    NaN       1   \n",
       "2  < Feuerfeste und keramihsce Rohstoffe  Duisburg  NaN      1     NaN   \n",
       "3         < Naturstein / < Sand und Kies  Duisburg    1      1     NaN   \n",
       "4         < Naturstein / < Sand und Kies       NaN  NaN    NaN       1   \n",
       "\n",
       "  Sachsen Anhalt Niedersachsen Bremen Berlin  Baden Württemberg  MVP   SH  \\\n",
       "0              1             1      1       1                 1    1    1   \n",
       "1              1           NaN    NaN     NaN                 1  NaN  NaN   \n",
       "2            NaN             1      1     NaN               NaN    1    1   \n",
       "3            NaN             1      1     NaN               NaN    1    1   \n",
       "4              1           NaN    NaN     NaN               NaN  NaN  NaN   \n",
       "\n",
       "  Saarland Thüringen  Bayern Hamburg Brandenburg  \\\n",
       "0        1         1       1       1           1   \n",
       "1        1         1  Wiesau     NaN         NaN   \n",
       "2      NaN       NaN     NaN       1           1   \n",
       "3      NaN       NaN     NaN       1         NaN   \n",
       "4        1    erfurt     NaN     NaN           1   \n",
       "\n",
       "                                                info  \n",
       "0                                                NaN  \n",
       "1                                                NaN  \n",
       "2                                                NaN  \n",
       "3                                                NaN  \n",
       "4  * Auszubildende aus dem Land Berlin besuchen B...  "
      ]
     },
     "execution_count": 41,
     "metadata": {},
     "output_type": "execute_result"
    }
   ],
   "source": [
    "gesinasTable.head(5)"
   ]
  },
  {
   "cell_type": "markdown",
   "metadata": {},
   "source": [
    "The NaN values are cells that are empty. To avoid some errors with NaN i will set the empty cells to the value **\"leer\"**"
   ]
  },
  {
   "cell_type": "code",
   "execution_count": 42,
   "metadata": {
    "collapsed": false
   },
   "outputs": [],
   "source": [
    "gesinasTable = gesinasTable.fillna('leer')"
   ]
  },
  {
   "cell_type": "code",
   "execution_count": 43,
   "metadata": {
    "collapsed": false
   },
   "outputs": [
    {
     "data": {
      "text/html": [
       "<div>\n",
       "<table border=\"1\" class=\"dataframe\">\n",
       "  <thead>\n",
       "    <tr style=\"text-align: right;\">\n",
       "      <th></th>\n",
       "      <th>Ausbildungsberuf</th>\n",
       "      <th>NRW</th>\n",
       "      <th>RLP</th>\n",
       "      <th>Hessen</th>\n",
       "      <th>Sachsen</th>\n",
       "      <th>Sachsen Anhalt</th>\n",
       "      <th>Niedersachsen</th>\n",
       "      <th>Bremen</th>\n",
       "      <th>Berlin</th>\n",
       "      <th>Baden Württemberg</th>\n",
       "      <th>MVP</th>\n",
       "      <th>SH</th>\n",
       "      <th>Saarland</th>\n",
       "      <th>Thüringen</th>\n",
       "      <th>Bayern</th>\n",
       "      <th>Hamburg</th>\n",
       "      <th>Brandenburg</th>\n",
       "      <th>info</th>\n",
       "    </tr>\n",
       "  </thead>\n",
       "  <tbody>\n",
       "    <tr>\n",
       "      <th>0</th>\n",
       "      <td>Aspahaltbauer</td>\n",
       "      <td>Essen</td>\n",
       "      <td>1</td>\n",
       "      <td>1</td>\n",
       "      <td>1</td>\n",
       "      <td>1</td>\n",
       "      <td>1</td>\n",
       "      <td>1</td>\n",
       "      <td>1</td>\n",
       "      <td>1</td>\n",
       "      <td>1</td>\n",
       "      <td>1</td>\n",
       "      <td>1</td>\n",
       "      <td>1</td>\n",
       "      <td>1</td>\n",
       "      <td>1</td>\n",
       "      <td>1</td>\n",
       "      <td>leer</td>\n",
       "    </tr>\n",
       "    <tr>\n",
       "      <th>1</th>\n",
       "      <td>Aufbereitungsmechaniker</td>\n",
       "      <td>leer</td>\n",
       "      <td>leer</td>\n",
       "      <td>leer</td>\n",
       "      <td>1</td>\n",
       "      <td>1</td>\n",
       "      <td>leer</td>\n",
       "      <td>leer</td>\n",
       "      <td>leer</td>\n",
       "      <td>1</td>\n",
       "      <td>leer</td>\n",
       "      <td>leer</td>\n",
       "      <td>1</td>\n",
       "      <td>1</td>\n",
       "      <td>Wiesau</td>\n",
       "      <td>leer</td>\n",
       "      <td>leer</td>\n",
       "      <td>leer</td>\n",
       "    </tr>\n",
       "    <tr>\n",
       "      <th>2</th>\n",
       "      <td>&lt; Feuerfeste und keramihsce Rohstoffe</td>\n",
       "      <td>Duisburg</td>\n",
       "      <td>leer</td>\n",
       "      <td>1</td>\n",
       "      <td>leer</td>\n",
       "      <td>leer</td>\n",
       "      <td>1</td>\n",
       "      <td>1</td>\n",
       "      <td>leer</td>\n",
       "      <td>leer</td>\n",
       "      <td>1</td>\n",
       "      <td>1</td>\n",
       "      <td>leer</td>\n",
       "      <td>leer</td>\n",
       "      <td>leer</td>\n",
       "      <td>1</td>\n",
       "      <td>1</td>\n",
       "      <td>leer</td>\n",
       "    </tr>\n",
       "    <tr>\n",
       "      <th>3</th>\n",
       "      <td>&lt; Naturstein / &lt; Sand und Kies</td>\n",
       "      <td>Duisburg</td>\n",
       "      <td>1</td>\n",
       "      <td>1</td>\n",
       "      <td>leer</td>\n",
       "      <td>leer</td>\n",
       "      <td>1</td>\n",
       "      <td>1</td>\n",
       "      <td>leer</td>\n",
       "      <td>leer</td>\n",
       "      <td>1</td>\n",
       "      <td>1</td>\n",
       "      <td>leer</td>\n",
       "      <td>leer</td>\n",
       "      <td>leer</td>\n",
       "      <td>1</td>\n",
       "      <td>leer</td>\n",
       "      <td>leer</td>\n",
       "    </tr>\n",
       "    <tr>\n",
       "      <th>4</th>\n",
       "      <td>&lt; Naturstein / &lt; Sand und Kies</td>\n",
       "      <td>leer</td>\n",
       "      <td>leer</td>\n",
       "      <td>leer</td>\n",
       "      <td>1</td>\n",
       "      <td>1</td>\n",
       "      <td>leer</td>\n",
       "      <td>leer</td>\n",
       "      <td>leer</td>\n",
       "      <td>leer</td>\n",
       "      <td>leer</td>\n",
       "      <td>leer</td>\n",
       "      <td>1</td>\n",
       "      <td>erfurt</td>\n",
       "      <td>leer</td>\n",
       "      <td>leer</td>\n",
       "      <td>1</td>\n",
       "      <td>* Auszubildende aus dem Land Berlin besuchen B...</td>\n",
       "    </tr>\n",
       "  </tbody>\n",
       "</table>\n",
       "</div>"
      ],
      "text/plain": [
       "                        Ausbildungsberuf       NRW   RLP Hessen Sachsen  \\\n",
       "0                          Aspahaltbauer     Essen     1      1       1   \n",
       "1                Aufbereitungsmechaniker      leer  leer   leer       1   \n",
       "2  < Feuerfeste und keramihsce Rohstoffe  Duisburg  leer      1    leer   \n",
       "3         < Naturstein / < Sand und Kies  Duisburg     1      1    leer   \n",
       "4         < Naturstein / < Sand und Kies      leer  leer   leer       1   \n",
       "\n",
       "  Sachsen Anhalt Niedersachsen Bremen Berlin  Baden Württemberg   MVP    SH  \\\n",
       "0              1             1      1       1                 1     1     1   \n",
       "1              1          leer   leer    leer                 1  leer  leer   \n",
       "2           leer             1      1    leer              leer     1     1   \n",
       "3           leer             1      1    leer              leer     1     1   \n",
       "4              1          leer   leer    leer              leer  leer  leer   \n",
       "\n",
       "  Saarland Thüringen  Bayern Hamburg Brandenburg  \\\n",
       "0        1         1       1       1           1   \n",
       "1        1         1  Wiesau    leer        leer   \n",
       "2     leer      leer    leer       1           1   \n",
       "3     leer      leer    leer       1        leer   \n",
       "4        1    erfurt    leer    leer           1   \n",
       "\n",
       "                                                info  \n",
       "0                                               leer  \n",
       "1                                               leer  \n",
       "2                                               leer  \n",
       "3                                               leer  \n",
       "4  * Auszubildende aus dem Land Berlin besuchen B...  "
      ]
     },
     "execution_count": 43,
     "metadata": {},
     "output_type": "execute_result"
    }
   ],
   "source": [
    "gesinasTable.head()"
   ]
  },
  {
   "cell_type": "code",
   "execution_count": 44,
   "metadata": {
    "collapsed": false
   },
   "outputs": [
    {
     "data": {
      "text/html": [
       "<div>\n",
       "<table border=\"1\" class=\"dataframe\">\n",
       "  <thead>\n",
       "    <tr style=\"text-align: right;\">\n",
       "      <th></th>\n",
       "      <th>Brandenburg</th>\n",
       "      <th>info</th>\n",
       "    </tr>\n",
       "  </thead>\n",
       "  <tbody>\n",
       "    <tr>\n",
       "      <th>4</th>\n",
       "      <td>1</td>\n",
       "      <td>* Auszubildende aus dem Land Berlin besuchen B...</td>\n",
       "    </tr>\n",
       "    <tr>\n",
       "      <th>15</th>\n",
       "      <td>1</td>\n",
       "      <td>Auszubildende aus dem Umkreis Berlin besuchen ...</td>\n",
       "    </tr>\n",
       "    <tr>\n",
       "      <th>31</th>\n",
       "      <td>1</td>\n",
       "      <td>Auszubildende aus dem Umkreis Berlin besuchen ...</td>\n",
       "    </tr>\n",
       "    <tr>\n",
       "      <th>34</th>\n",
       "      <td>1</td>\n",
       "      <td>Auszubildende aus dem Umkreis Berlin besuchen ...</td>\n",
       "    </tr>\n",
       "    <tr>\n",
       "      <th>40</th>\n",
       "      <td>1</td>\n",
       "      <td>Auszubildende aus dem Umkreis Berlin besuchen ...</td>\n",
       "    </tr>\n",
       "  </tbody>\n",
       "</table>\n",
       "</div>"
      ],
      "text/plain": [
       "   Brandenburg                                               info\n",
       "4            1  * Auszubildende aus dem Land Berlin besuchen B...\n",
       "15           1  Auszubildende aus dem Umkreis Berlin besuchen ...\n",
       "31           1  Auszubildende aus dem Umkreis Berlin besuchen ...\n",
       "34           1  Auszubildende aus dem Umkreis Berlin besuchen ...\n",
       "40           1  Auszubildende aus dem Umkreis Berlin besuchen ..."
      ]
     },
     "execution_count": 44,
     "metadata": {},
     "output_type": "execute_result"
    }
   ],
   "source": [
    "gesinasTable[['Brandenburg','info']][((gesinasTable['Brandenburg']==1) & (gesinasTable['info']!='leer'))][:5]"
   ]
  },
  {
   "cell_type": "markdown",
   "metadata": {},
   "source": [
    "## Analysing the data\n",
    "\n",
    "### Let's have a look an the number of schools per state"
   ]
  },
  {
   "cell_type": "code",
   "execution_count": 45,
   "metadata": {
    "collapsed": false
   },
   "outputs": [
    {
     "data": {
      "text/plain": [
       "0                 Essen\n",
       "2              Duisburg\n",
       "3              Duisburg\n",
       "7              Lübbecke\n",
       "9         Gelsenkirchen\n",
       "13               Beckum\n",
       "15                Essen\n",
       "17        Gelsenkirchen\n",
       "29     Duisburg-Homberg\n",
       "39             Dortmund\n",
       "44             Dortmund\n",
       "60             Dortmund\n",
       "91             Lübbecke\n",
       "106       Gelsenkirchen\n",
       "111            Solingen\n",
       "116               Hagen\n",
       "119       Gelsenkirchen\n",
       "125       Gelsenkirchen\n",
       "138           Rheinbach\n",
       "163            Dortmund\n",
       "176           Rheinbach\n",
       "182           Rheinbach\n",
       "187               Essen\n",
       "192            Solingen\n",
       "213           Rheinbach\n",
       "226            Dortmund\n",
       "254                Köln\n",
       "264                Köln\n",
       "281            Solingen\n",
       "303            Solingen\n",
       "323       Gelsenkirchen\n",
       "349       Gelsenkirchen\n",
       "352             Herford\n",
       "355       Gelsenkirchen\n",
       "374            Dortmund\n",
       "390       Gelsenkirchen\n",
       "394                Köln\n",
       "422       Gelsenkirchen\n",
       "436           Rheinbach\n",
       "439            Duisburg\n",
       "442               Soest\n",
       "444          Oberhausen\n",
       "Name: NRW, dtype: object"
      ]
     },
     "execution_count": 45,
     "metadata": {},
     "output_type": "execute_result"
    }
   ],
   "source": [
    "gesinasTable[(gesinasTable['NRW']!= 1) & (gesinasTable['NRW']!= 'leer')]['NRW']"
   ]
  },
  {
   "cell_type": "code",
   "execution_count": 60,
   "metadata": {
    "collapsed": false
   },
   "outputs": [
    {
     "data": {
      "text/plain": [
       "42"
      ]
     },
     "execution_count": 60,
     "metadata": {},
     "output_type": "execute_result"
    }
   ],
   "source": [
    "# Count the Schools\n",
    "len(gesinasTable[(gesinasTable['NRW']!= 1) & (gesinasTable['NRW']!= 'leer')]['NRW'])"
   ]
  },
  {
   "cell_type": "markdown",
   "metadata": {},
   "source": [
    "### Create a dictonary with the states and the number of schools\n",
    "\n",
    "Create a dictonary **dictCount** to save the values. The columns has to be cleaned of the first column and the last"
   ]
  },
  {
   "cell_type": "code",
   "execution_count": 48,
   "metadata": {
    "collapsed": false
   },
   "outputs": [],
   "source": [
    "dictCount = {'NRW': 0}\n",
    "laenderList = gesinasTable.columns\n",
    "listLaender = laenderList.delete([0,17])"
   ]
  },
  {
   "cell_type": "markdown",
   "metadata": {},
   "source": [
    "### Function to count the number of schools per state"
   ]
  },
  {
   "cell_type": "code",
   "execution_count": 49,
   "metadata": {
    "collapsed": true
   },
   "outputs": [],
   "source": [
    "for item in listLaender:\n",
    "    dictCount[item] = len(gesinasTable[(gesinasTable[item]!= 1) & (gesinasTable[item]!= 'leer')][item])"
   ]
  },
  {
   "cell_type": "code",
   "execution_count": 50,
   "metadata": {
    "collapsed": false
   },
   "outputs": [
    {
     "data": {
      "text/plain": [
       "{'Baden Württemberg': 49,\n",
       " 'Bayern': 83,\n",
       " 'Berlin ': 14,\n",
       " 'Brandenburg': 19,\n",
       " 'Bremen': 4,\n",
       " 'Hamburg': 32,\n",
       " 'Hessen': 18,\n",
       " 'MVP': 4,\n",
       " 'NRW': 42,\n",
       " 'Niedersachsen': 24,\n",
       " 'RLP': 14,\n",
       " 'SH': 38,\n",
       " 'Saarland': 1,\n",
       " 'Sachsen': 55,\n",
       " 'Sachsen Anhalt': 14,\n",
       " 'Thüringen': 42}"
      ]
     },
     "execution_count": 50,
     "metadata": {},
     "output_type": "execute_result"
    }
   ],
   "source": [
    "dictCount"
   ]
  },
  {
   "cell_type": "markdown",
   "metadata": {},
   "source": [
    "Repeat this for the number of cases where there are visitors from an other state"
   ]
  },
  {
   "cell_type": "code",
   "execution_count": 51,
   "metadata": {
    "collapsed": true
   },
   "outputs": [],
   "source": [
    "dictTravel = {}"
   ]
  },
  {
   "cell_type": "code",
   "execution_count": 52,
   "metadata": {
    "collapsed": false
   },
   "outputs": [],
   "source": [
    "for item in listLaender:\n",
    "    dictTravel[item] = len(gesinasTable[gesinasTable[item]== 1][item])"
   ]
  },
  {
   "cell_type": "code",
   "execution_count": 53,
   "metadata": {
    "collapsed": false
   },
   "outputs": [
    {
     "data": {
      "text/plain": [
       "{'Baden Württemberg': 89,\n",
       " 'Bayern': 58,\n",
       " 'Berlin ': 95,\n",
       " 'Brandenburg': 164,\n",
       " 'Bremen': 103,\n",
       " 'Hamburg': 130,\n",
       " 'Hessen': 134,\n",
       " 'MVP': 198,\n",
       " 'NRW': 68,\n",
       " 'Niedersachsen': 142,\n",
       " 'RLP': 126,\n",
       " 'SH': 132,\n",
       " 'Saarland': 139,\n",
       " 'Sachsen': 118,\n",
       " 'Sachsen Anhalt': 171,\n",
       " 'Thüringen': 127}"
      ]
     },
     "execution_count": 53,
     "metadata": {},
     "output_type": "execute_result"
    }
   ],
   "source": [
    "dictTravel"
   ]
  },
  {
   "cell_type": "markdown",
   "metadata": {},
   "source": [
    "## Let's plot the data in histogramms\n",
    "### First plot is number of schools per state"
   ]
  },
  {
   "cell_type": "code",
   "execution_count": 65,
   "metadata": {
    "collapsed": false
   },
   "outputs": [
    {
     "data": {
      "image/png": "[encoded data removed]",
      "text/plain": [
       "<matplotlib.figure.Figure at 0x7f1c7e19fba8>"
      ]
     },
     "metadata": {},
     "output_type": "display_data"
    }
   ],
   "source": [
    "plotHistogrammSchools(dictCount)"
   ]
  },
  {
   "cell_type": "code",
   "execution_count": 64,
   "metadata": {
    "collapsed": false
   },
   "outputs": [
    {
     "data": {
      "image/png": "[encoded data removed]",
      "text/plain": [
       "<matplotlib.figure.Figure at 0x7f1c7e0d46a0>"
      ]
     },
     "metadata": {},
     "output_type": "display_data"
    }
   ],
   "source": [
    "plotHistogrammSchools(dictTravel)"
   ]
  },
  {
   "cell_type": "code",
   "execution_count": null,
   "metadata": {
    "collapsed": true
   },
   "outputs": [],
   "source": []
  }
 ],
 "metadata": {
  "kernelspec": {
   "display_name": "Python 3",
   "language": "python",
   "name": "python3"
  },
  "language_info": {
   "codemirror_mode": {
    "name": "ipython",
    "version": 3
   },
   "file_extension": ".py",
   "mimetype": "text/x-python",
   "name": "python",
   "nbconvert_exporter": "python",
   "pygments_lexer": "ipython3",
   "version": "3.5.1"
  }
 },
 "nbformat": 4,
 "nbformat_minor": 0
}
