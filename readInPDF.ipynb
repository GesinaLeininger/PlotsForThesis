{
 "cells": [
  {
   "cell_type": "code",
   "execution_count": 1,
   "metadata": {
    "collapsed": false
   },
   "outputs": [],
   "source": [
    "from pdfminer.pdfparser import PDFParser, PDFDocument\n",
    "from pdfminer.pdfinterp import PDFResourceManager, PDFPageInterpreter\n",
    "from pdfminer.converter import PDFPageAggregator\n",
    "from pdfminer.layout import LAParams, LTTextBox, LTTextLine\n",
    "import numpy as np\n",
    "import pandas as pd\n",
    "import csv\n",
    "import re"
   ]
  },
  {
   "cell_type": "code",
   "execution_count": 2,
   "metadata": {
    "collapsed": true
   },
   "outputs": [],
   "source": [
    "def pdfToDataFrame(filename):\n",
    "    fp = open(filename, 'rb')\n",
    "    data = np.array('0')\n",
    "    parser = PDFParser(fp)\n",
    "    doc = PDFDocument()\n",
    "    parser.set_document(doc)\n",
    "    doc.set_parser(parser)\n",
    "    doc.initialize('')\n",
    "    rsrcmgr = PDFResourceManager()\n",
    "    laparams = LAParams()\n",
    "    device = PDFPageAggregator(rsrcmgr, laparams=laparams)\n",
    "    interpreter = PDFPageInterpreter(rsrcmgr, device)\n",
    "    # Process each page contained in the document.\n",
    "    for page in doc.get_pages():\n",
    "        interpreter.process_page(page)\n",
    "        layout = device.get_result()\n",
    "        for lt_obj in layout:\n",
    "            if isinstance(lt_obj, LTTextBox) or isinstance(lt_obj, LTTextLine):\n",
    "                #print(lt_obj.get_text())\n",
    "                tmp = np.array(lt_obj.get_text())\n",
    "                data = np.append(data,tmp)\n",
    "    return data"
   ]
  },
  {
   "cell_type": "code",
   "execution_count": 24,
   "metadata": {
    "collapsed": true
   },
   "outputs": [],
   "source": [
    "def pdfToDataFrameIfTextBox(filename):\n",
    "    fp = open(filename, 'rb')\n",
    "    data = np.array('0')\n",
    "    parser = PDFParser(fp)\n",
    "    doc = PDFDocument()\n",
    "    parser.set_document(doc)\n",
    "    doc.set_parser(parser)\n",
    "    doc.initialize('')\n",
    "    rsrcmgr = PDFResourceManager()\n",
    "    laparams = LAParams()\n",
    "    device = PDFPageAggregator(rsrcmgr, laparams=laparams)\n",
    "    interpreter = PDFPageInterpreter(rsrcmgr, device)\n",
    "    # Process each page contained in the document.\n",
    "    for page in doc.get_pages():\n",
    "        interpreter.process_page(page)\n",
    "        layout = device.get_result()\n",
    "        for lt_obj in layout:\n",
    "            if isinstance(lt_obj, LTTextBox):\n",
    "                #print(lt_obj.get_text())\n",
    "                tmp = np.array(lt_obj.get_text())\n",
    "                data = np.append(data,tmp)\n",
    "    return data"
   ]
  },
  {
   "cell_type": "code",
   "execution_count": 3,
   "metadata": {
    "collapsed": false
   },
   "outputs": [],
   "source": [
    "data = pdfToDataFrame('Data/KMK-Liste_Splitterberufe_2015.pdf')"
   ]
  },
  {
   "cell_type": "code",
   "execution_count": 25,
   "metadata": {
    "collapsed": true
   },
   "outputs": [],
   "source": [
    "dataTBox = pdfToDataFrameIfTextBox('Data/KMK-Liste_Splitterberufe_2015.pdf')"
   ]
  },
  {
   "cell_type": "code",
   "execution_count": 4,
   "metadata": {
    "collapsed": false
   },
   "outputs": [
    {
     "data": {
      "text/plain": [
       "(6038,)"
      ]
     },
     "execution_count": 4,
     "metadata": {},
     "output_type": "execute_result"
    }
   ],
   "source": [
    "data.shape"
   ]
  },
  {
   "cell_type": "code",
   "execution_count": 5,
   "metadata": {
    "collapsed": false
   },
   "outputs": [
    {
     "data": {
      "text/plain": [
       "dtype('<U407')"
      ]
     },
     "execution_count": 5,
     "metadata": {},
     "output_type": "execute_result"
    }
   ],
   "source": [
    "data.dtype"
   ]
  },
  {
   "cell_type": "code",
   "execution_count": 6,
   "metadata": {
    "collapsed": true
   },
   "outputs": [],
   "source": [
    "df = pd.DataFrame(data=data, columns=['Text'])"
   ]
  },
  {
   "cell_type": "code",
   "execution_count": 30,
   "metadata": {
    "collapsed": false
   },
   "outputs": [
    {
     "data": {
      "text/html": [
       "<div>\n",
       "<table border=\"1\" class=\"dataframe\">\n",
       "  <thead>\n",
       "    <tr style=\"text-align: right;\">\n",
       "      <th></th>\n",
       "      <th>Text</th>\n",
       "    </tr>\n",
       "  </thead>\n",
       "  <tbody>\n",
       "    <tr>\n",
       "      <th>33</th>\n",
       "      <td>Seite 3 \\n</td>\n",
       "    </tr>\n",
       "    <tr>\n",
       "      <th>34</th>\n",
       "      <td>Liste der anerkannten Ausbildungsberufe, für w...</td>\n",
       "    </tr>\n",
       "    <tr>\n",
       "      <th>35</th>\n",
       "      <td>27. Fortschreibung \\nvom 26.06.2015 \\n</td>\n",
       "    </tr>\n",
       "    <tr>\n",
       "      <th>36</th>\n",
       "      <td>Ausbildungsberuf \\n</td>\n",
       "    </tr>\n",
       "    <tr>\n",
       "      <th>37</th>\n",
       "      <td>Aufnehmendes Land \\n(Berufsschulstandort) \\n</td>\n",
       "    </tr>\n",
       "    <tr>\n",
       "      <th>38</th>\n",
       "      <td>Änderungsschneider und \\nÄnderungsschneiderin ...</td>\n",
       "    </tr>\n",
       "    <tr>\n",
       "      <th>39</th>\n",
       "      <td>Sachsen (Dresden) \\n</td>\n",
       "    </tr>\n",
       "    <tr>\n",
       "      <th>40</th>\n",
       "      <td>Berufliches Schulzentrum für Dienst-\\nleistung...</td>\n",
       "    </tr>\n",
       "    <tr>\n",
       "      <th>41</th>\n",
       "      <td>Einzugsbereich \\n</td>\n",
       "    </tr>\n",
       "    <tr>\n",
       "      <th>42</th>\n",
       "      <td>(Abkürzungen siehe Tabellen-\\nende) \\n</td>\n",
       "    </tr>\n",
       "    <tr>\n",
       "      <th>43</th>\n",
       "      <td>BB1), MV, SN, ST \\n</td>\n",
       "    </tr>\n",
       "    <tr>\n",
       "      <th>44</th>\n",
       "      <td>1) Auszubildende aus dem Umkreis Berlin besuch...</td>\n",
       "    </tr>\n",
       "    <tr>\n",
       "      <th>45</th>\n",
       "      <td>\\n</td>\n",
       "    </tr>\n",
       "    <tr>\n",
       "      <th>46</th>\n",
       "      <td>\\n</td>\n",
       "    </tr>\n",
       "    <tr>\n",
       "      <th>47</th>\n",
       "      <td>\\n</td>\n",
       "    </tr>\n",
       "    <tr>\n",
       "      <th>48</th>\n",
       "      <td>\\n</td>\n",
       "    </tr>\n",
       "    <tr>\n",
       "      <th>49</th>\n",
       "      <td>\\n</td>\n",
       "    </tr>\n",
       "  </tbody>\n",
       "</table>\n",
       "</div>"
      ],
      "text/plain": [
       "                                                 Text\n",
       "33                                         Seite 3 \\n\n",
       "34  Liste der anerkannten Ausbildungsberufe, für w...\n",
       "35             27. Fortschreibung \\nvom 26.06.2015 \\n\n",
       "36                                Ausbildungsberuf \\n\n",
       "37       Aufnehmendes Land \\n(Berufsschulstandort) \\n\n",
       "38  Änderungsschneider und \\nÄnderungsschneiderin ...\n",
       "39                               Sachsen (Dresden) \\n\n",
       "40  Berufliches Schulzentrum für Dienst-\\nleistung...\n",
       "41                                  Einzugsbereich \\n\n",
       "42             (Abkürzungen siehe Tabellen-\\nende) \\n\n",
       "43                                BB1), MV, SN, ST \\n\n",
       "44  1) Auszubildende aus dem Umkreis Berlin besuch...\n",
       "45                                                 \\n\n",
       "46                                                 \\n\n",
       "47                                                 \\n\n",
       "48                                                 \\n\n",
       "49                                                 \\n"
      ]
     },
     "execution_count": 30,
     "metadata": {},
     "output_type": "execute_result"
    }
   ],
   "source": [
    "df[33:50]"
   ]
  },
  {
   "cell_type": "code",
   "execution_count": 26,
   "metadata": {
    "collapsed": false
   },
   "outputs": [],
   "source": [
    "dfBox = pd.DataFrame(data=dataTBox, columns=['Text'])"
   ]
  },
  {
   "cell_type": "code",
   "execution_count": 33,
   "metadata": {
    "collapsed": false
   },
   "outputs": [
    {
     "data": {
      "text/html": [
       "<div>\n",
       "<table border=\"1\" class=\"dataframe\">\n",
       "  <thead>\n",
       "    <tr style=\"text-align: right;\">\n",
       "      <th></th>\n",
       "      <th>Text</th>\n",
       "    </tr>\n",
       "  </thead>\n",
       "  <tbody>\n",
       "    <tr>\n",
       "      <th>76</th>\n",
       "      <td>Liste der anerkannten Ausbildungsberufe, für w...</td>\n",
       "    </tr>\n",
       "    <tr>\n",
       "      <th>77</th>\n",
       "      <td>27. Fortschreibung \\nvom 26.06.2015 \\n</td>\n",
       "    </tr>\n",
       "    <tr>\n",
       "      <th>78</th>\n",
       "      <td>Ausbildungsberuf \\n</td>\n",
       "    </tr>\n",
       "    <tr>\n",
       "      <th>79</th>\n",
       "      <td>Aufnehmendes Land \\n(Berufsschulstandort) \\n</td>\n",
       "    </tr>\n",
       "    <tr>\n",
       "      <th>80</th>\n",
       "      <td>Einzugsbereich \\n</td>\n",
       "    </tr>\n",
       "    <tr>\n",
       "      <th>81</th>\n",
       "      <td>(Abkürzungen siehe Tabellen-\\nende) \\n</td>\n",
       "    </tr>\n",
       "    <tr>\n",
       "      <th>82</th>\n",
       "      <td>Automatenfachmann und \\nAutomatenfachfrau (BBi...</td>\n",
       "    </tr>\n",
       "    <tr>\n",
       "      <th>83</th>\n",
       "      <td>BB, BE, MV, SN, ST \\n</td>\n",
       "    </tr>\n",
       "    <tr>\n",
       "      <th>84</th>\n",
       "      <td>HE, TH \\n</td>\n",
       "    </tr>\n",
       "    <tr>\n",
       "      <th>85</th>\n",
       "      <td>HB, HH, NI, NW, SL, \\nSH \\n</td>\n",
       "    </tr>\n",
       "    <tr>\n",
       "      <th>86</th>\n",
       "      <td>Berlin (Berlin) \\n</td>\n",
       "    </tr>\n",
       "    <tr>\n",
       "      <th>87</th>\n",
       "      <td>Hein-Moeller-Schule \\nOberstufenzentrum Energi...</td>\n",
       "    </tr>\n",
       "    <tr>\n",
       "      <th>88</th>\n",
       "      <td>Hessen (Offenbach am Main) \\n</td>\n",
       "    </tr>\n",
       "    <tr>\n",
       "      <th>89</th>\n",
       "      <td>Gewerblich-technische Schulen der \\nStadt Offe...</td>\n",
       "    </tr>\n",
       "    <tr>\n",
       "      <th>90</th>\n",
       "      <td>Nordrhein-Westfalen \\n(Lübbecke) \\n</td>\n",
       "    </tr>\n",
       "    <tr>\n",
       "      <th>91</th>\n",
       "      <td>Berufskolleg Lübbecke des Kreises \\nMinden-Lüb...</td>\n",
       "    </tr>\n",
       "    <tr>\n",
       "      <th>92</th>\n",
       "      <td>Seite 8 \\n</td>\n",
       "    </tr>\n",
       "    <tr>\n",
       "      <th>93</th>\n",
       "      <td>Liste der anerkannten Ausbildungsberufe, für w...</td>\n",
       "    </tr>\n",
       "    <tr>\n",
       "      <th>94</th>\n",
       "      <td>27. Fortschreibung \\nvom 26.06.2015 \\n</td>\n",
       "    </tr>\n",
       "    <tr>\n",
       "      <th>95</th>\n",
       "      <td>Ausbildungsberuf \\n</td>\n",
       "    </tr>\n",
       "    <tr>\n",
       "      <th>96</th>\n",
       "      <td>Aufnehmendes Land \\n(Berufsschulstandort) \\n</td>\n",
       "    </tr>\n",
       "    <tr>\n",
       "      <th>97</th>\n",
       "      <td>Einzugsbereich \\n</td>\n",
       "    </tr>\n",
       "    <tr>\n",
       "      <th>98</th>\n",
       "      <td>(Abkürzungen siehe Tabellen-\\nende) \\n</td>\n",
       "    </tr>\n",
       "    <tr>\n",
       "      <th>99</th>\n",
       "      <td>Baugeräteführer und \\nBaugeräteführerin (BBiG) \\n</td>\n",
       "    </tr>\n",
       "  </tbody>\n",
       "</table>\n",
       "</div>"
      ],
      "text/plain": [
       "                                                 Text\n",
       "76  Liste der anerkannten Ausbildungsberufe, für w...\n",
       "77             27. Fortschreibung \\nvom 26.06.2015 \\n\n",
       "78                                Ausbildungsberuf \\n\n",
       "79       Aufnehmendes Land \\n(Berufsschulstandort) \\n\n",
       "80                                  Einzugsbereich \\n\n",
       "81             (Abkürzungen siehe Tabellen-\\nende) \\n\n",
       "82  Automatenfachmann und \\nAutomatenfachfrau (BBi...\n",
       "83                              BB, BE, MV, SN, ST \\n\n",
       "84                                          HE, TH \\n\n",
       "85                        HB, HH, NI, NW, SL, \\nSH \\n\n",
       "86                                 Berlin (Berlin) \\n\n",
       "87  Hein-Moeller-Schule \\nOberstufenzentrum Energi...\n",
       "88                      Hessen (Offenbach am Main) \\n\n",
       "89  Gewerblich-technische Schulen der \\nStadt Offe...\n",
       "90                Nordrhein-Westfalen \\n(Lübbecke) \\n\n",
       "91  Berufskolleg Lübbecke des Kreises \\nMinden-Lüb...\n",
       "92                                         Seite 8 \\n\n",
       "93  Liste der anerkannten Ausbildungsberufe, für w...\n",
       "94             27. Fortschreibung \\nvom 26.06.2015 \\n\n",
       "95                                Ausbildungsberuf \\n\n",
       "96       Aufnehmendes Land \\n(Berufsschulstandort) \\n\n",
       "97                                  Einzugsbereich \\n\n",
       "98             (Abkürzungen siehe Tabellen-\\nende) \\n\n",
       "99  Baugeräteführer und \\nBaugeräteführerin (BBiG) \\n"
      ]
     },
     "execution_count": 33,
     "metadata": {},
     "output_type": "execute_result"
    }
   ],
   "source": [
    "dfBox[76:100]"
   ]
  },
  {
   "cell_type": "code",
   "execution_count": 8,
   "metadata": {
    "collapsed": false
   },
   "outputs": [],
   "source": [
    "df.to_csv('test.csv', index=False, quoting=None, encoding='utf-8')"
   ]
  },
  {
   "cell_type": "code",
   "execution_count": 9,
   "metadata": {
    "collapsed": false
   },
   "outputs": [],
   "source": [
    "dfRegrexed = pd.read_csv('test.csv')"
   ]
  },
  {
   "cell_type": "code",
   "execution_count": 20,
   "metadata": {
    "collapsed": false
   },
   "outputs": [
    {
     "data": {
      "text/html": [
       "<div>\n",
       "<table border=\"1\" class=\"dataframe\">\n",
       "  <thead>\n",
       "    <tr style=\"text-align: right;\">\n",
       "      <th></th>\n",
       "      <th>Text</th>\n",
       "    </tr>\n",
       "  </thead>\n",
       "  <tbody>\n",
       "    <tr>\n",
       "      <th>30</th>\n",
       "      <td>entsendendes Land kann gleichzeitig einen Teil...</td>\n",
       "    </tr>\n",
       "    <tr>\n",
       "      <th>31</th>\n",
       "      <td>dungsberuf selbst beschulen (was in der \"Liste...</td>\n",
       "    </tr>\n",
       "    <tr>\n",
       "      <th>32</th>\n",
       "      <td>\\r\\n</td>\n",
       "    </tr>\n",
       "    <tr>\n",
       "      <th>33</th>\n",
       "      <td>Seite 3 \\r\\n</td>\n",
       "    </tr>\n",
       "    <tr>\n",
       "      <th>34</th>\n",
       "      <td>Liste der anerkannten Ausbildungsberufe, für w...</td>\n",
       "    </tr>\n",
       "    <tr>\n",
       "      <th>35</th>\n",
       "      <td>27. Fortschreibung \\r\\nvom 26.06.2015 \\r\\n</td>\n",
       "    </tr>\n",
       "    <tr>\n",
       "      <th>36</th>\n",
       "      <td>Ausbildungsberuf \\r\\n</td>\n",
       "    </tr>\n",
       "    <tr>\n",
       "      <th>37</th>\n",
       "      <td>Aufnehmendes Land \\r\\n(Berufsschulstandort) \\r\\n</td>\n",
       "    </tr>\n",
       "    <tr>\n",
       "      <th>38</th>\n",
       "      <td>Änderungsschneider und \\r\\nÄnderungsschneideri...</td>\n",
       "    </tr>\n",
       "    <tr>\n",
       "      <th>39</th>\n",
       "      <td>Sachsen (Dresden) \\r\\n</td>\n",
       "    </tr>\n",
       "    <tr>\n",
       "      <th>40</th>\n",
       "      <td>Berufliches Schulzentrum für Dienst-\\r\\nleistu...</td>\n",
       "    </tr>\n",
       "    <tr>\n",
       "      <th>41</th>\n",
       "      <td>Einzugsbereich \\r\\n</td>\n",
       "    </tr>\n",
       "    <tr>\n",
       "      <th>42</th>\n",
       "      <td>(Abkürzungen siehe Tabellen-\\r\\nende) \\r\\n</td>\n",
       "    </tr>\n",
       "    <tr>\n",
       "      <th>43</th>\n",
       "      <td>BB1), MV, SN, ST \\r\\n</td>\n",
       "    </tr>\n",
       "    <tr>\n",
       "      <th>44</th>\n",
       "      <td>1) Auszubildende aus dem Umkreis Berlin besuch...</td>\n",
       "    </tr>\n",
       "    <tr>\n",
       "      <th>45</th>\n",
       "      <td>\\r\\n</td>\n",
       "    </tr>\n",
       "    <tr>\n",
       "      <th>46</th>\n",
       "      <td>\\r\\n</td>\n",
       "    </tr>\n",
       "    <tr>\n",
       "      <th>47</th>\n",
       "      <td>\\r\\n</td>\n",
       "    </tr>\n",
       "    <tr>\n",
       "      <th>48</th>\n",
       "      <td>\\r\\n</td>\n",
       "    </tr>\n",
       "    <tr>\n",
       "      <th>49</th>\n",
       "      <td>\\r\\n</td>\n",
       "    </tr>\n",
       "  </tbody>\n",
       "</table>\n",
       "</div>"
      ],
      "text/plain": [
       "                                                 Text\n",
       "30  entsendendes Land kann gleichzeitig einen Teil...\n",
       "31  dungsberuf selbst beschulen (was in der \"Liste...\n",
       "32                                               \\r\\n\n",
       "33                                       Seite 3 \\r\\n\n",
       "34  Liste der anerkannten Ausbildungsberufe, für w...\n",
       "35         27. Fortschreibung \\r\\nvom 26.06.2015 \\r\\n\n",
       "36                              Ausbildungsberuf \\r\\n\n",
       "37   Aufnehmendes Land \\r\\n(Berufsschulstandort) \\r\\n\n",
       "38  Änderungsschneider und \\r\\nÄnderungsschneideri...\n",
       "39                             Sachsen (Dresden) \\r\\n\n",
       "40  Berufliches Schulzentrum für Dienst-\\r\\nleistu...\n",
       "41                                Einzugsbereich \\r\\n\n",
       "42         (Abkürzungen siehe Tabellen-\\r\\nende) \\r\\n\n",
       "43                              BB1), MV, SN, ST \\r\\n\n",
       "44  1) Auszubildende aus dem Umkreis Berlin besuch...\n",
       "45                                               \\r\\n\n",
       "46                                               \\r\\n\n",
       "47                                               \\r\\n\n",
       "48                                               \\r\\n\n",
       "49                                               \\r\\n"
      ]
     },
     "execution_count": 20,
     "metadata": {},
     "output_type": "execute_result"
    }
   ],
   "source": [
    "dfRegrexed[30:50]"
   ]
  },
  {
   "cell_type": "code",
   "execution_count": 11,
   "metadata": {
    "collapsed": false
   },
   "outputs": [],
   "source": [
    "# Read the entire file as a single string\n",
    "with open('test.csv', 'rt') as f:\n",
    "    data = f.read()"
   ]
  },
  {
   "cell_type": "code",
   "execution_count": 12,
   "metadata": {
    "collapsed": true
   },
   "outputs": [],
   "source": [
    "import re"
   ]
  },
  {
   "cell_type": "code",
   "execution_count": 14,
   "metadata": {
    "collapsed": false
   },
   "outputs": [
    {
     "name": "stdout",
     "output_type": "stream",
     "text": [
      "['vasfg ahjavklj aern aerg ', ' avav avag l jlaerg erjg jrg gj; ', '4 laopck an adfi aer']\n"
     ]
    }
   ],
   "source": [
    "testString = 'vasfg ahjavklj aern aerg Seite 3 avav avag l jlaerg erjg jrg gj; Seite 34 laopck an adfi aer'\n",
    "l = re.compile(\"Seite [0-9]\").split(testString)\n",
    "print (l)"
   ]
  },
  {
   "cell_type": "code",
   "execution_count": 15,
   "metadata": {
    "collapsed": true
   },
   "outputs": [],
   "source": [
    "pages = re.compile(\"(Seite [0-9]+)\").split(data)"
   ]
  },
  {
   "cell_type": "code",
   "execution_count": 16,
   "metadata": {
    "collapsed": false
   },
   "outputs": [
    {
     "data": {
      "text/plain": [
       "' \\n\"\\n\"Liste der anerkannten Ausbildungsberufe, fÃ¼r welche lÃ¤nderÃ¼bergreifende \\nFachklassen eingerichtet werden, m it Angabe der aufnehmenden LÃ¤nder (Be-\\nrufsschulstandorte) und Einzugsbereiche \\n\"\\n\"27. Fortschreibung \\nvom 26.06.2015 \\n\"\\n\"Ausbildungsberuf \\n\"\\n\"Aufnehmendes Land \\n(Berufsschulstandort) \\n\"\\n\"Ã„nderungsschneider und \\nÃ„nderungsschneiderin (HwO) \\n\"\\n\"Sachsen (Dresden) \\n\"\\n\"Berufliches Schulzentrum fÃ¼r Dienst-\\nleistung und Gestaltung Dresden \\nChemnitzer Str. 83 \\n01187 Dresden \\nTelefon-Nummer: 0351 4277660 \\nTelefax-Nummer: 0351 4277683 \\n\"\\n\"Einzugsbereich \\n\"\\n\"(AbkÃ¼rzungen siehe Tabellen-\\nende) \\n\"\\n\"BB1), MV, SN, ST \\n\"\\n\"1) Auszubildende aus dem Umkreis Berlin besuchen nach Absprachen zwischen Berlin und Brandenburg \\ndie Berufsschule in Berlin \\n\"\\n\" \\n\"\\n\" \\n\"\\n\" \\n\"\\n\" \\n\"\\n\" \\n\"\\n\" \\n\"\\n\" \\n\"\\n\" \\n\"\\n\" \\n\"\\n\" \\n\"\\n\" \\n\"\\n\" \\n\"\\n\" \\n\"\\n\" \\n\"\\n\" \\n\"\\n\"'"
      ]
     },
     "execution_count": 16,
     "metadata": {},
     "output_type": "execute_result"
    }
   ],
   "source": [
    "pages[4]"
   ]
  },
  {
   "cell_type": "code",
   "execution_count": 23,
   "metadata": {
    "collapsed": false
   },
   "outputs": [
    {
     "data": {
      "text/plain": [
       "' \\n\"\\n\"Liste der anerkannten Ausbildungsberufe, fÃ¼r welche lÃ¤nderÃ¼bergreifende \\nFachklassen eingerichtet werden, m it Angabe der aufnehmenden LÃ¤nder (Be-\\nrufsschulstandorte) und Einzugsbereiche \\n\"\\n\"27. Fortschreibung \\nvom 26.06.2015 \\n\"\\n\"Ausbildungsberuf \\n\"\\n\"Aufnehmendes Land \\n(Berufsschulstandort) \\n\"\\n\"Einzugsbereich \\n\"\\n\"(AbkÃ¼rzungen siehe Tabellen-\\nende) \\n\"\\n\"Aufbereitungsmechaniker und \\nAufbereitungsmechanikerin \\n\"\\n\"(BBiG) \\n\"\\n\"Fachrichtung: \\n- Feuerfeste und keramische \\nRohstoffe \\n\"\\n\"Bayern (W iesau) \\n\"\\n\"Staatliche Berufsschule W iesau \\nPestalozzistr. 2 \\n95676 W iesau \\nTelefon-Nummer: 09634/92030 \\nTelefax-Nummer: 09634/8282 \\n\"\\n\"BW , BY, BB, HH, \\nHE, MV, NI, NW , SL, \\nSN, ST, SH, TH \\n\"\\n\" \\n\"\\n\" \\n\"\\n\" \\n\"\\n\" \\n\"\\n\" \\n\"\\n\" \\n\"\\n\" \\n\"\\n\" \\n\"\\n\"'"
      ]
     },
     "execution_count": 23,
     "metadata": {},
     "output_type": "execute_result"
    }
   ],
   "source": [
    "pages[8]"
   ]
  },
  {
   "cell_type": "code",
   "execution_count": 21,
   "metadata": {
    "collapsed": true
   },
   "outputs": [],
   "source": [
    "pages_version2 = re.compile(\"Seite [0-9]+\").split(data)"
   ]
  },
  {
   "cell_type": "code",
   "execution_count": 22,
   "metadata": {
    "collapsed": false
   },
   "outputs": [
    {
     "data": {
      "text/plain": [
       "' \\n\"\\n\"Liste der anerkannten Ausbildungsberufe, fÃ¼r welche lÃ¤nderÃ¼bergreifende \\nFachklassen eingerichtet werden, m it Angabe der aufnehmenden LÃ¤nder (Be-\\nrufsschulstandorte) und Einzugsbereiche \\n\"\\n\"27. Fortschreibung \\nvom 26.06.2015 \\n\"\\n\"Ausbildungsberuf \\n\"\\n\"Aufnehmendes Land \\n(Berufsschulstandort) \\n\"\\n\"Einzugsbereich \\n\"\\n\"(AbkÃ¼rzungen siehe Tabellen-\\nende) \\n\"\\n\"Aufbereitungsmechaniker und \\nAufbereitungsmechanikerin \\n\"\\n\"(BBiG) \\n\"\\n\"Fachrichtung: \\n- Feuerfeste und keramische \\nRohstoffe \\n\"\\n\"Bayern (W iesau) \\n\"\\n\"Staatliche Berufsschule W iesau \\nPestalozzistr. 2 \\n95676 W iesau \\nTelefon-Nummer: 09634/92030 \\nTelefax-Nummer: 09634/8282 \\n\"\\n\"BW , BY, BB, HH, \\nHE, MV, NI, NW , SL, \\nSN, ST, SH, TH \\n\"\\n\" \\n\"\\n\" \\n\"\\n\" \\n\"\\n\" \\n\"\\n\" \\n\"\\n\" \\n\"\\n\" \\n\"\\n\" \\n\"\\n\"'"
      ]
     },
     "execution_count": 22,
     "metadata": {},
     "output_type": "execute_result"
    }
   ],
   "source": [
    "pages_version2[4]"
   ]
  },
  {
   "cell_type": "code",
   "execution_count": null,
   "metadata": {
    "collapsed": true
   },
   "outputs": [],
   "source": []
  }
 ],
 "metadata": {
  "kernelspec": {
   "display_name": "Python 3",
   "language": "python",
   "name": "python3"
  },
  "language_info": {
   "codemirror_mode": {
    "name": "ipython",
    "version": 3
   },
   "file_extension": ".py",
   "mimetype": "text/x-python",
   "name": "python",
   "nbconvert_exporter": "python",
   "pygments_lexer": "ipython3",
   "version": "3.5.1"
  }
 },
 "nbformat": 4,
 "nbformat_minor": 0
}
